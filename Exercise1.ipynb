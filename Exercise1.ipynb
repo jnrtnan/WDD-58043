{
  "nbformat": 4,
  "nbformat_minor": 0,
  "metadata": {
    "colab": {
      "name": "Exercise1.ipynb",
      "provenance": [],
      "authorship_tag": "ABX9TyPXyKbmC5fpUr8CgK+zj3/2",
      "include_colab_link": true
    },
    "kernelspec": {
      "name": "python3",
      "display_name": "Python 3"
    },
    "language_info": {
      "name": "python"
    }
  },
  "cells": [
    {
      "cell_type": "markdown",
      "metadata": {
        "id": "view-in-github",
        "colab_type": "text"
      },
      "source": [
        "<a href=\"https://colab.research.google.com/github/jnrtnan/WDD-58043/blob/main/Exercise1.ipynb\" target=\"_parent\"><img src=\"https://colab.research.google.com/assets/colab-badge.svg\" alt=\"Open In Colab\"/></a>"
      ]
    },
    {
      "cell_type": "code",
      "source": [
        "import math as m\n",
        "\n",
        "s = str(input(\"Find area of a circle using Radius or Diameter? \"))\n",
        "\n",
        "if s in ['Radius']:\n",
        "\n",
        "  r = float(input(\"Raidus of cirle: \"))\n",
        "\n",
        "  area = m.pi * r * r\n",
        "\n",
        "  print(\"Area of cirle: %.2f\" %area)\n",
        "else:\n",
        "  exit()\n",
        "\n",
        "if s in [\"Diameter\"]:\n",
        "\n",
        "  d = float(input(\"Diameter of cirle: \"))\n",
        "  area = ((1 / 4) * m.pi * (d * d))\n",
        "  print(\"Area of cirle: %.2f\" %area)\n",
        "else: \n",
        "  exit()\n"
      ],
      "metadata": {
        "colab": {
          "base_uri": "https://localhost:8080/"
        },
        "id": "PLSYX4PLoIeX",
        "outputId": "83e50989-7dca-42cf-e6a9-044c93eda3e3"
      },
      "execution_count": 1,
      "outputs": [
        {
          "output_type": "stream",
          "name": "stdout",
          "text": [
            "Find area of a circle using Radius or Diameter? Diameter\n",
            "Diameter of cirle: 1.3\n",
            "Area of cirle: 1.33\n"
          ]
        }
      ]
    },
    {
      "cell_type": "code",
      "source": [],
      "metadata": {
        "id": "c8qmqdCG1jxE"
      },
      "execution_count": null,
      "outputs": []
    }
  ]
}